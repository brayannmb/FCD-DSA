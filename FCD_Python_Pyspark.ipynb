{
  "nbformat": 4,
  "nbformat_minor": 0,
  "metadata": {
    "colab": {
      "provenance": [],
      "collapsed_sections": [],
      "authorship_tag": "ABX9TyMYIyqJ9q7aY6S0oExnaEml",
      "include_colab_link": true
    },
    "kernelspec": {
      "name": "python3",
      "display_name": "Python 3"
    },
    "language_info": {
      "name": "python"
    }
  },
  "cells": [
    {
      "cell_type": "markdown",
      "metadata": {
        "id": "view-in-github",
        "colab_type": "text"
      },
      "source": [
        "<a href=\"https://colab.research.google.com/github/brayannmb/FCD-DSA/blob/main/FCD_Python_Pyspark.ipynb\" target=\"_parent\"><img src=\"https://colab.research.google.com/assets/colab-badge.svg\" alt=\"Open In Colab\"/></a>"
      ]
    },
    {
      "cell_type": "markdown",
      "source": [
        "#Data Scientist Formation - Data Science Academy\n",
        "\n",
        "##Module 01 - Numpy\n",
        "\n",
        "* Manipulate data with Numpy can be faster than using Pandas.\n",
        "* It is possible to use Numpy in distributed environments "
      ],
      "metadata": {
        "id": "QABM9jkUB6Tp"
      }
    },
    {
      "cell_type": "markdown",
      "source": [
        "##01-Cap02-Numpy - Chapter 2 - Data Manipulation with Numpy"
      ],
      "metadata": {
        "id": "x51SAVGWCXXF"
      }
    },
    {
      "cell_type": "code",
      "source": [
        "import numpy as np"
      ],
      "metadata": {
        "id": "gKMixsuV3hKu"
      },
      "execution_count": 1,
      "outputs": []
    },
    {
      "cell_type": "code",
      "source": [
        "# by default array method creates elements with integer data type\n",
        "\n",
        "#Unidimensional array:\n",
        "array1 = np.array([10, 20, 30, 40])\n",
        "print(array1); print(array1.shape); print(array1.ndim)  #ndim: number of dimensions"
      ],
      "metadata": {
        "colab": {
          "base_uri": "https://localhost:8080/"
        },
        "id": "VqYw2DmA4aRb",
        "outputId": "65791557-ad65-4b0d-b3c2-5349d06ecde4"
      },
      "execution_count": 2,
      "outputs": [
        {
          "output_type": "stream",
          "name": "stdout",
          "text": [
            "[10 20 30 40]\n",
            "(4,)\n",
            "1\n"
          ]
        }
      ]
    },
    {
      "cell_type": "code",
      "source": [
        "#Bi-dimensional array:\n",
        "array2 = np.array([[10, 20, 30], [40, 50, 60]])\n",
        "print(array2); print(array2.shape); print(array2.ndim)"
      ],
      "metadata": {
        "colab": {
          "base_uri": "https://localhost:8080/"
        },
        "id": "LVJ306VG52na",
        "outputId": "05a4a056-a755-42c2-d667-50226e33f222"
      },
      "execution_count": 3,
      "outputs": [
        {
          "output_type": "stream",
          "name": "stdout",
          "text": [
            "[[10 20 30]\n",
            " [40 50 60]]\n",
            "(2, 3)\n",
            "2\n"
          ]
        }
      ]
    },
    {
      "cell_type": "code",
      "source": [
        "#Arange method\n",
        "array3 = np.arange(10); array3 #start: 0, end: 9"
      ],
      "metadata": {
        "colab": {
          "base_uri": "https://localhost:8080/"
        },
        "id": "CQc9qYeS6kwV",
        "outputId": "04fb25a5-ffa9-486d-fe65-4eb59dc0fc90"
      },
      "execution_count": 4,
      "outputs": [
        {
          "output_type": "execute_result",
          "data": {
            "text/plain": [
              "array([0, 1, 2, 3, 4, 5, 6, 7, 8, 9])"
            ]
          },
          "metadata": {},
          "execution_count": 4
        }
      ]
    },
    {
      "cell_type": "code",
      "source": [
        "#Defining start and end - this method is exclusive\n",
        "array4 = np.arange(0, 20, 5); array4"
      ],
      "metadata": {
        "colab": {
          "base_uri": "https://localhost:8080/"
        },
        "id": "sWiAdtpF7tZn",
        "outputId": "3acfe801-27fd-447f-c918-1982e3b3a276"
      },
      "execution_count": 5,
      "outputs": [
        {
          "output_type": "execute_result",
          "data": {
            "text/plain": [
              "array([ 0,  5, 10, 15])"
            ]
          },
          "metadata": {},
          "execution_count": 5
        }
      ]
    },
    {
      "cell_type": "code",
      "source": [
        "#Numpy zeros method\n",
        "array5 = np.zeros((10, 8)); array5"
      ],
      "metadata": {
        "colab": {
          "base_uri": "https://localhost:8080/"
        },
        "id": "7IL2itcR-_Y_",
        "outputId": "d0181d86-26c4-49ff-de1f-97bb16602412"
      },
      "execution_count": 6,
      "outputs": [
        {
          "output_type": "execute_result",
          "data": {
            "text/plain": [
              "array([[0., 0., 0., 0., 0., 0., 0., 0.],\n",
              "       [0., 0., 0., 0., 0., 0., 0., 0.],\n",
              "       [0., 0., 0., 0., 0., 0., 0., 0.],\n",
              "       [0., 0., 0., 0., 0., 0., 0., 0.],\n",
              "       [0., 0., 0., 0., 0., 0., 0., 0.],\n",
              "       [0., 0., 0., 0., 0., 0., 0., 0.],\n",
              "       [0., 0., 0., 0., 0., 0., 0., 0.],\n",
              "       [0., 0., 0., 0., 0., 0., 0., 0.],\n",
              "       [0., 0., 0., 0., 0., 0., 0., 0.],\n",
              "       [0., 0., 0., 0., 0., 0., 0., 0.]])"
            ]
          },
          "metadata": {},
          "execution_count": 6
        }
      ]
    },
    {
      "cell_type": "code",
      "source": [
        "#Numpy ones method\n",
        "array6 = np.ones((2, 3, 2)); array6 #2 rows, 3 columns and 2 dimensions"
      ],
      "metadata": {
        "colab": {
          "base_uri": "https://localhost:8080/"
        },
        "id": "iJEmGSZJ_h7H",
        "outputId": "6dd119bf-c5c5-4f9b-9916-4888ff9bbd55"
      },
      "execution_count": 7,
      "outputs": [
        {
          "output_type": "execute_result",
          "data": {
            "text/plain": [
              "array([[[1., 1.],\n",
              "        [1., 1.],\n",
              "        [1., 1.]],\n",
              "\n",
              "       [[1., 1.],\n",
              "        [1., 1.],\n",
              "        [1., 1.]]])"
            ]
          },
          "metadata": {},
          "execution_count": 7
        }
      ]
    },
    {
      "cell_type": "code",
      "source": [
        "#Identity matrix - main diagonal is filled by number one \n",
        "array7 = np.eye(5); array7"
      ],
      "metadata": {
        "colab": {
          "base_uri": "https://localhost:8080/"
        },
        "id": "socrW04wAPZX",
        "outputId": "d356c44f-74d8-44fd-b18a-66a5814bba28"
      },
      "execution_count": 8,
      "outputs": [
        {
          "output_type": "execute_result",
          "data": {
            "text/plain": [
              "array([[1., 0., 0., 0., 0.],\n",
              "       [0., 1., 0., 0., 0.],\n",
              "       [0., 0., 1., 0., 0.],\n",
              "       [0., 0., 0., 1., 0.],\n",
              "       [0., 0., 0., 0., 1.]])"
            ]
          },
          "metadata": {},
          "execution_count": 8
        }
      ]
    },
    {
      "cell_type": "code",
      "source": [
        "#Main diagonal\n",
        "array8 = np.diag((2, 3, 4, 5, 6)); array8"
      ],
      "metadata": {
        "colab": {
          "base_uri": "https://localhost:8080/"
        },
        "id": "eNxGYB6KBeSH",
        "outputId": "7d6a297a-911f-4e5c-905b-4941140c59e4"
      },
      "execution_count": 9,
      "outputs": [
        {
          "output_type": "execute_result",
          "data": {
            "text/plain": [
              "array([[2, 0, 0, 0, 0],\n",
              "       [0, 3, 0, 0, 0],\n",
              "       [0, 0, 4, 0, 0],\n",
              "       [0, 0, 0, 5, 0],\n",
              "       [0, 0, 0, 0, 6]])"
            ]
          },
          "metadata": {},
          "execution_count": 9
        }
      ]
    },
    {
      "cell_type": "code",
      "source": [
        "#Random numeric values\n",
        "np.random.seed(100) #set seed\n",
        "array9= np.random.rand(5); array9"
      ],
      "metadata": {
        "colab": {
          "base_uri": "https://localhost:8080/"
        },
        "id": "1ObP2e-FCDIV",
        "outputId": "12f76666-63b4-4b2d-bc3b-caca5201a1ac"
      },
      "execution_count": 10,
      "outputs": [
        {
          "output_type": "execute_result",
          "data": {
            "text/plain": [
              "array([0.54340494, 0.27836939, 0.42451759, 0.84477613, 0.00471886])"
            ]
          },
          "metadata": {},
          "execution_count": 10
        }
      ]
    },
    {
      "cell_type": "code",
      "source": [
        "#Random numeric values (Gaussian Distribution)\n",
        "array10 = np.random.randn(5); array10"
      ],
      "metadata": {
        "colab": {
          "base_uri": "https://localhost:8080/"
        },
        "id": "zijKerqpCkPV",
        "outputId": "5c915f84-9408-4fc0-d813-ec8b9c85e32b"
      },
      "execution_count": 11,
      "outputs": [
        {
          "output_type": "execute_result",
          "data": {
            "text/plain": [
              "array([ 0.35467445, -0.78606433, -0.2318722 ,  0.20797568,  0.93580797])"
            ]
          },
          "metadata": {},
          "execution_count": 11
        }
      ]
    },
    {
      "cell_type": "code",
      "source": [
        "#Empty array\n",
        "array11 = np.empty((3, 2)); array11"
      ],
      "metadata": {
        "colab": {
          "base_uri": "https://localhost:8080/"
        },
        "id": "UUcyTGn8DGEQ",
        "outputId": "a0770bc4-7d67-4dee-f4e7-660131f6279c"
      },
      "execution_count": 12,
      "outputs": [
        {
          "output_type": "execute_result",
          "data": {
            "text/plain": [
              "array([[3.0421266e-316, 0.0000000e+000],\n",
              "       [0.0000000e+000, 0.0000000e+000],\n",
              "       [0.0000000e+000, 0.0000000e+000]])"
            ]
          },
          "metadata": {},
          "execution_count": 12
        }
      ]
    },
    {
      "cell_type": "code",
      "source": [
        "#Numpy tile method\n",
        "print(np.array([[9, 4], [3, 7]]))\n",
        "print()\n",
        "print(np.tile(np.array([[9, 4], [3, 7]]), 4))\n",
        "print()\n",
        "print(np.tile(np.array([[9, 4], [3, 7]]), (2, 2)))"
      ],
      "metadata": {
        "colab": {
          "base_uri": "https://localhost:8080/"
        },
        "id": "7D3QMmH-DYkj",
        "outputId": "c11d2217-8737-4b82-b63b-1d6ca9c4ec74"
      },
      "execution_count": 13,
      "outputs": [
        {
          "output_type": "stream",
          "name": "stdout",
          "text": [
            "[[9 4]\n",
            " [3 7]]\n",
            "\n",
            "[[9 4 9 4 9 4 9 4]\n",
            " [3 7 3 7 3 7 3 7]]\n",
            "\n",
            "[[9 4 9 4]\n",
            " [3 7 3 7]\n",
            " [9 4 9 4]\n",
            " [3 7 3 7]]\n"
          ]
        }
      ]
    },
    {
      "cell_type": "code",
      "source": [
        "#Numpy data types\n",
        "array12 = np.array([8, -3, 5, 9], dtype='float'); print(array12); print(array12.dtype)"
      ],
      "metadata": {
        "colab": {
          "base_uri": "https://localhost:8080/"
        },
        "id": "PBca5d8wERSB",
        "outputId": "89868e5a-4068-4213-bdc7-e3453cd3ae54"
      },
      "execution_count": 14,
      "outputs": [
        {
          "output_type": "stream",
          "name": "stdout",
          "text": [
            "[ 8. -3.  5.  9.]\n",
            "float64\n"
          ]
        }
      ]
    },
    {
      "cell_type": "code",
      "source": [
        "#String array\n",
        "array13 = np.array(['Data', 'Scientist', 'Formation - DSA']); array13"
      ],
      "metadata": {
        "colab": {
          "base_uri": "https://localhost:8080/"
        },
        "id": "Pc6zrRJdFfZf",
        "outputId": "f36028b6-7dfd-4995-ffcc-f4168d39518f"
      },
      "execution_count": 15,
      "outputs": [
        {
          "output_type": "execute_result",
          "data": {
            "text/plain": [
              "array(['Data', 'Scientist', 'Formation - DSA'], dtype='<U15')"
            ]
          },
          "metadata": {},
          "execution_count": 15
        }
      ]
    },
    {
      "cell_type": "code",
      "source": [
        "#Boolean array\n",
        "array14 = np.array([True, False, True]); array14"
      ],
      "metadata": {
        "colab": {
          "base_uri": "https://localhost:8080/"
        },
        "id": "Kbv8UsGdGdRQ",
        "outputId": "6f3fa552-e902-474f-c2bc-2769b376fac1"
      },
      "execution_count": 17,
      "outputs": [
        {
          "output_type": "execute_result",
          "data": {
            "text/plain": [
              "array([ True, False,  True])"
            ]
          },
          "metadata": {},
          "execution_count": 17
        }
      ]
    },
    {
      "cell_type": "code",
      "source": [
        "#Convert data type\n",
        "array15 = np.array([5.55, -3.8, 2]).astype(int); print(array15.dtype); print(array15)"
      ],
      "metadata": {
        "colab": {
          "base_uri": "https://localhost:8080/"
        },
        "id": "rO7cTa50sApI",
        "outputId": "bf3b01dd-b4ef-4172-b052-9757c19c10bf"
      },
      "execution_count": 19,
      "outputs": [
        {
          "output_type": "stream",
          "name": "stdout",
          "text": [
            "int64\n",
            "[ 5 -3  2]\n"
          ]
        }
      ]
    },
    {
      "cell_type": "code",
      "source": [],
      "metadata": {
        "id": "WYNOuMX8skLF"
      },
      "execution_count": null,
      "outputs": []
    }
  ]
}